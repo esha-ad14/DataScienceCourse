{
 "cells": [
  {
   "cell_type": "code",
   "execution_count": 60,
   "metadata": {},
   "outputs": [
    {
     "name": "stdout",
     "output_type": "stream",
     "text": [
      "(enter -1 to stop) Type in UP/DOWN/LEFT/RIGHT #step number: UP 5\n",
      "['UP', '5']\n",
      "[['UP', '5']]\n",
      "(enter -1 to stop) Type in UP/DOWN/LEFT/RIGHT #step number: DOWN 3\n",
      "['DOWN', '3']\n",
      "[['UP', '5'], ['DOWN', '3']]\n",
      "(enter -1 to stop) Type in UP/DOWN/LEFT/RIGHT #step number: LEFT 3\n",
      "['LEFT', '3']\n",
      "[['UP', '5'], ['DOWN', '3'], ['LEFT', '3']]\n",
      "(enter -1 to stop) Type in UP/DOWN/LEFT/RIGHT #step number: RIGHT 2\n",
      "['RIGHT', '2']\n",
      "[['UP', '5'], ['DOWN', '3'], ['LEFT', '3'], ['RIGHT', '2']]\n",
      "(enter -1 to stop) Type in UP/DOWN/LEFT/RIGHT #step number:  \n",
      "['', '']\n",
      "[['UP', '5'], ['DOWN', '3'], ['LEFT', '3'], ['RIGHT', '2'], ['', '']]\n",
      "Distance: 2.23606797749979\n"
     ]
    }
   ],
   "source": [
    "#Question 1\n",
    "import math\n",
    "\n",
    "x=y=0\n",
    "step=\"\"\n",
    "arr=[]\n",
    "ind = []\n",
    "i=0\n",
    "while step!=\" \":\n",
    "    step = input(\"(enter -1 to stop) Type in UP/DOWN/LEFT/RIGHT #step number: \")\n",
    "    ind = step.split(\" \")\n",
    "    arr.append(ind)\n",
    "    print(ind)\n",
    "    print(arr)\n",
    "\n",
    "for i in range(len(arr)):\n",
    "    if arr[i][0] == \"UP\":\n",
    "        y = y + int(arr[i][1])\n",
    "    elif arr[i][0] == \"DOWN\":\n",
    "        y = y - int(arr[i][1])\n",
    "    elif arr[i][0] == \"LEFT\":\n",
    "        x = x - int(arr[i][1])\n",
    "    elif arr[i][0] == \"RIGHT\":\n",
    "        x = x + int(arr[i][1])\n",
    "\n",
    "\n",
    "c = math.sqrt(x**2 + y**2)\n",
    "\n",
    "print(\"Distance:\", c)"
   ]
  },
  {
   "cell_type": "code",
   "execution_count": 68,
   "metadata": {},
   "outputs": [
    {
     "name": "stdout",
     "output_type": "stream",
     "text": [
      "Element is present at index 3\n"
     ]
    }
   ],
   "source": [
    "#Question 2\n",
    "def binarySearch (arr, l, r, x):\n",
    "    if x in arr == False:\n",
    "        return -1\n",
    "    if r >= l: \n",
    "        mid = l + (r - l)//2\n",
    "    if arr[mid] == x: \n",
    "        return mid \n",
    "    elif arr[mid] > x: \n",
    "        return binarySearch(arr, l, mid-1, x) \n",
    "    else: \n",
    "        return binarySearch(arr, mid+1, r, x) \n",
    "    \n",
    "arr = [ 2, 3, 4, 10, 40 ] \n",
    "x = 10\n",
    "result = binarySearch(arr, 0, len(arr)-1, x) \n",
    "if result != -1: \n",
    "    print(\"Element is present at index %d\" % result)\n",
    "else: \n",
    "    print(\"Element is not present in array\")"
   ]
  },
  {
   "cell_type": "code",
   "execution_count": 72,
   "metadata": {
    "scrolled": false
   },
   "outputs": [
    {
     "name": "stdout",
     "output_type": "stream",
     "text": [
      "evening or night\n",
      "evening or night\n",
      "evening or night\n",
      "evening or night\n",
      "daylight\n"
     ]
    }
   ],
   "source": [
    "#Question 3\n",
    "import datetime\n",
    "timestamps = ['2015-03-25 21:15:00', '2015-06-27 18:24:00', '2015-06-27 18:22:00', '2015-06-27 18:21:00', '2015-07-07 07:53:00']\n",
    "for timestamp in timestamps:\n",
    "    time = datetime.datetime.strptime(timestamp, \"%Y-%m-%d %H:%M:%S\")\n",
    "    hr, mi = (time.hour, time.minute)\n",
    "    if hr>=7 and hr<18: print (\"daylight\")\n",
    "    else: print (\"evening or night\")"
   ]
  },
  {
   "cell_type": "code",
   "execution_count": 18,
   "metadata": {},
   "outputs": [
    {
     "name": "stdout",
     "output_type": "stream",
     "text": [
      "Input coordinates of two points:\n",
      "Enter a starting latitude: 23\n",
      "Enter a ending longitude: 45\n",
      "Enter a starting latitude: 78\n",
      "Enter a ending longitude: 67\n",
      "The distance is %.2fkm. 6223.484480137957\n"
     ]
    }
   ],
   "source": [
    "#Question 4\n",
    "from math import radians, sin, cos, acos\n",
    "\n",
    "print(\"Enter the coordinates for two points:\")\n",
    "start_lat = radians(float(input(\"Enter a starting latitude: \")))\n",
    "start_lon = radians(float(input(\"Enter a ending longitude: \")))\n",
    "ending_lat = radians(float(input(\"Enter a starting latitude: \")))\n",
    "ending_lon = radians(float(input(\"Enter a ending longitude: \")))\n",
    "\n",
    "distance = 6371.01 * acos(sin(start_lat)*sin(ending_lat) + cos(start_lat)*cos(ending_lat)*cos(start_lon - ending_lon))\n",
    "print(\"The distance is %.2fkm.\", distance)"
   ]
  },
  {
   "cell_type": "code",
   "execution_count": 69,
   "metadata": {},
   "outputs": [
    {
     "name": "stdout",
     "output_type": "stream",
     "text": [
      "Welcome to XYZ Bank!\n",
      "Choose any option from below\n",
      "1. Case withdrawal\n",
      "2. Cash credit\n",
      "3. Change password\n",
      "Enter your option:2\n",
      "Enter CARD PIN for access:4321\n",
      "Enter amount you want to credit to bank:45\n",
      "Thank You\n"
     ]
    }
   ],
   "source": [
    "#Question 5\n",
    "def CashWithdrawal():\n",
    "    cardPin=int(input('Enter CARD PIN for access:'))\n",
    "    if cardPin==4321:\n",
    "        print(\"Thank You\") \n",
    "    else:\n",
    "        print(\"Your PIN is invalid. Please Try Again\")\n",
    "\n",
    "def CashCredit():\n",
    "    cardPin=int(input('Enter CARD PIN for access:'))\n",
    "    if cardPin==4321:\n",
    "        amount=input('Enter amount you want to credit to bank:')\n",
    "        print(\"Thank You\") \n",
    "    else:\n",
    "        print(\"Your PIN is invalid. Please Try Again\")\n",
    "\n",
    "def ChangePassword():\n",
    "    cardPin=int(input('Enter CARD PIN for access:'))\n",
    "    if cardPin==4321:\n",
    "        password=input('Enter your old password:')\n",
    "        print(\"Thank You\") \n",
    "    else:\n",
    "        print(\"Your PIN is invalid. Please Try Again\")\n",
    "\n",
    "\n",
    "def Main():\n",
    "    print('Welcome to XYZ Bank!')\n",
    "    print('Choose any option from below')\n",
    "    print('1. Case withdrawal\\n2. Cash credit\\n3. Change password')\n",
    "    option=int(input('Enter your option:'))\n",
    "    if option==1:\n",
    "        CashWithdrawal()\n",
    "    if option==2:\n",
    "        CashCredit()\n",
    "    if option==3:\n",
    "        ChangePassword()\n",
    "\n",
    "Main()"
   ]
  },
  {
   "cell_type": "code",
   "execution_count": 1,
   "metadata": {},
   "outputs": [
    {
     "name": "stdout",
     "output_type": "stream",
     "text": [
      "2030,2065,2100,2135,2170,2205,2240,2275,2310,2345,2380,2415,2450,2485,2520,2555,2590,2625,2660,2695,2730,2765,2800,2835,2870,2905,2940,2975,3010,3045,3080,3115,3150,3185\n"
     ]
    }
   ],
   "source": [
    "#Question 6\n",
    "num=[]\n",
    "for i in range(2000, 3201):\n",
    "    if (i%7==0) and (i%5==0):\n",
    "        num.append(str(i))\n",
    "print (','.join(num))"
   ]
  },
  {
   "cell_type": "code",
   "execution_count": 5,
   "metadata": {},
   "outputs": [
    {
     "name": "stdout",
     "output_type": "stream",
     "text": [
      "Enter a number:8\n",
      "The factorial of 8 is 40320\n"
     ]
    }
   ],
   "source": [
    "#Question 7\n",
    "def factorial(x):\n",
    "    if x == 1:\n",
    "        return x\n",
    "    else:\n",
    "        return x*factorial(x-1)\n",
    "\n",
    "num =int(input(\"Enter a number:\"))\n",
    "if num < 0:\n",
    "    print(\" factorial does not exist for negative numbers\")\n",
    "elif num == 0:\n",
    "    print(\"The factorial of 0 is 1\")\n",
    "else:\n",
    "    print(\"The factorial of\", num, \"is\",factorial(num))"
   ]
  },
  {
   "cell_type": "code",
   "execution_count": 6,
   "metadata": {},
   "outputs": [
    {
     "name": "stdout",
     "output_type": "stream",
     "text": [
      "Provide D: 100,150,180\n",
      "[18, 22, 24]\n"
     ]
    }
   ],
   "source": [
    "#Question 8\n",
    "import math\n",
    "\n",
    "nums = input(\"Provide D: \")\n",
    "nums = nums.split(',')\n",
    "\n",
    "r_list = []\n",
    "for D in nums:\n",
    "    Q = round(math.sqrt(2 * 50 * int(D) / 30))\n",
    "    r_list.append(Q)\n",
    "\n",
    "print(r_list)"
   ]
  },
  {
   "cell_type": "code",
   "execution_count": 9,
   "metadata": {},
   "outputs": [
    {
     "name": "stdout",
     "output_type": "stream",
     "text": [
      "Enter number of rows: 3\n",
      "Enter number of columns: 5\n",
      "[[0, 0, 0, 0, 0], [0, 1, 2, 3, 4], [0, 2, 4, 6, 8]]\n"
     ]
    }
   ],
   "source": [
    "#Question 9\n",
    "r_num = int(input(\"Enter number of rows: \"))\n",
    "c_num = int(input(\"Enter number of columns: \"))\n",
    "multi_list = [[0 for col in range(c_num)] for row in range(r_num)]\n",
    "\n",
    "for row in range(r_num):\n",
    "    for col in range(c_num):\n",
    "        multi_list[row][col]= row*col\n",
    "\n",
    "print(multi_list)"
   ]
  },
  {
   "cell_type": "code",
   "execution_count": 11,
   "metadata": {},
   "outputs": [
    {
     "name": "stdout",
     "output_type": "stream",
     "text": [
      "Input comma separated sequence of wordswithout,hello,bag,world\n",
      "bag,hello,without,world\n"
     ]
    }
   ],
   "source": [
    "#Question 10\n",
    "item = input(\"Input comma separated sequence of words\")\n",
    "w = [word for word in item.split(\",\")]\n",
    "print(\",\".join(sorted(list(set(w)))))\n"
   ]
  },
  {
   "cell_type": "code",
   "execution_count": 71,
   "metadata": {},
   "outputs": [
    {
     "name": "stdout",
     "output_type": "stream",
     "text": [
      "Enter a word/phrase:ok\n",
      "Enter a word/phrase:your mum gay\n",
      "Enter a word/phrase:\n",
      "OK\n",
      "YOUR MUM GAY\n"
     ]
    }
   ],
   "source": [
    "#Question 11\n",
    "l_list = []\n",
    "line = \" \"\n",
    "while line!=\"\":\n",
    "    line = input(\"Enter a word/phrase:\")\n",
    "    if line:\n",
    "        l_list.append(line.upper())\n",
    "    else:\n",
    "        break\n",
    "\n",
    "for line in l_list:\n",
    "    print(line)"
   ]
  },
  {
   "cell_type": "code",
   "execution_count": 20,
   "metadata": {},
   "outputs": [
    {
     "name": "stdout",
     "output_type": "stream",
     "text": [
      "Type in: hello world and practice makes perfect and hello world again\n",
      "again and hello makes perfect practice world\n"
     ]
    }
   ],
   "source": [
    "#Question 12\n",
    "phrase = input(\"Type in: \")\n",
    "splt_phrase = phrase.split(' ')\n",
    "\n",
    "word_lst = []\n",
    "for i in splt_phrase:\n",
    "    if i not in word_lst:\n",
    "        word_lst.append(i)\n",
    "    else:\n",
    "        continue\n",
    "word_lst.sort()\n",
    "print((' ').join(word_lst))"
   ]
  },
  {
   "cell_type": "code",
   "execution_count": 22,
   "metadata": {},
   "outputs": [
    {
     "name": "stdout",
     "output_type": "stream",
     "text": [
      "Enter 4 digit binary numbers:0100,0011,1010,1001\n",
      "1010\n"
     ]
    }
   ],
   "source": [
    "#Question 13\n",
    "item = []\n",
    "n = [i for i in input(\"Enter 4 digit binary numbers:\").split(',')]\n",
    "for j in n:\n",
    "    i = int(j, 2)\n",
    "    if not i%5:\n",
    "        item.append(j)\n",
    "print(','.join(item))"
   ]
  },
  {
   "cell_type": "code",
   "execution_count": 24,
   "metadata": {},
   "outputs": [
    {
     "name": "stdout",
     "output_type": "stream",
     "text": [
      "Enter word or phrase: Hello World!!\n",
      "UPPER: 2\n",
      "lower: 8\n"
     ]
    }
   ],
   "source": [
    "#Question 14\n",
    "phrase = input(\"Enter word or phrase: \")\n",
    "phrase = list(phrase)\n",
    "\n",
    "upper=0 \n",
    "lower = 0\n",
    "for i in phrase:\n",
    "    if i.isupper():\n",
    "        upper = upper + 1\n",
    "    if i.islower():\n",
    "        lower = lower + 1\n",
    "    else:\n",
    "        pass\n",
    "\n",
    "print(\"UPPER:\", upper)\n",
    "print(\"lower:\", lower)"
   ]
  },
  {
   "cell_type": "code",
   "execution_count": 26,
   "metadata": {},
   "outputs": [
    {
     "name": "stdout",
     "output_type": "stream",
     "text": [
      "45\n",
      "11.0\n"
     ]
    }
   ],
   "source": [
    "#Question 15\n",
    "import math \n",
    "  \n",
    "#sum\n",
    "print(sum(range(10))) \n",
    "  \n",
    "#fsum \n",
    "arr = [1, 4, 6] \n",
    "print(math.fsum(arr)) \n",
    "  \n"
   ]
  },
  {
   "cell_type": "code",
   "execution_count": null,
   "metadata": {},
   "outputs": [],
   "source": []
  }
 ],
 "metadata": {
  "kernelspec": {
   "display_name": "Python 3",
   "language": "python",
   "name": "python3"
  },
  "language_info": {
   "codemirror_mode": {
    "name": "ipython",
    "version": 3
   },
   "file_extension": ".py",
   "mimetype": "text/x-python",
   "name": "python",
   "nbconvert_exporter": "python",
   "pygments_lexer": "ipython3",
   "version": "3.7.4"
  }
 },
 "nbformat": 4,
 "nbformat_minor": 2
}

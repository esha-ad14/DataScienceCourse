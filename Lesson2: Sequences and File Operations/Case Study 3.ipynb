{
 "cells": [
  {
   "cell_type": "code",
   "execution_count": 9,
   "metadata": {},
   "outputs": [
    {
     "name": "stdout",
     "output_type": "stream",
     "text": [
      "Enter your ReferenceID redbla#44099\n",
      "Valid Reference ID\n",
      "\n",
      " Press 1 to encrypt, 2 to decrypt or 0 to exit program. 1\n",
      "\n",
      "\n",
      " Press 1 to encrypt, 2 to decrypt or 0 to exit program. 2\n",
      "redbla#44099\n",
      "\n",
      " Press 1 to encrypt, 2 to decrypt or 0 to exit program. 0\n"
     ]
    }
   ],
   "source": [
    "#referenceID\n",
    "import re\n",
    "referenceID = input(\"Enter your ReferenceID \")\n",
    "x=True\n",
    "count=0\n",
    "while (x):  \n",
    "    if (len(referenceID )!=12):\n",
    "        break\n",
    "    elif not re.search(\"[a-z]\" or \"[A-Z]\",referenceID):\n",
    "        break\n",
    "    elif not re.search(\"[0-9]\",referenceID):\n",
    "        break\n",
    "    elif not re.search(\"[$#@]\",referenceID):\n",
    "        break\n",
    "    else:\n",
    "        print(\"Valid Reference ID\")\n",
    "        x=False\n",
    "        break\n",
    "if x:\n",
    "    print(\"Not a Valid ReferenceID\")\n",
    "#Encryption/ Decryption\n",
    "decrypted = b\"abcdefghijklmnopqrstuvwxyz \"\n",
    "encrypted = b\"qwertyuiopasdfghjklzxcvbnm \"\n",
    "\n",
    "encrypt_t = bytes.maketrans(decrypted, encrypted)\n",
    "decrypt_t = bytes.maketrans(encrypted, decrypted)\n",
    "\n",
    "result = ''\n",
    "choice = ''\n",
    "message = ''\n",
    "\n",
    "while choice != '0':\n",
    "    choice = input(\"\\n Press 1 to encrypt, 2 to decrypt or 0 to exit program. \")\n",
    "    if choice == '1':\n",
    "        message = referenceID\n",
    "        result1 = message.translate(encrypt_t)\n",
    "        print(result)\n",
    "\n",
    "    elif choice == '2':\n",
    "        message = result1\n",
    "        result = message.translate(decrypt_t)\n",
    "        print(result)\n",
    "\n",
    "    elif choice != '0':\n",
    "        print('Invalid input. \\n\\n')"
   ]
  },
  {
   "cell_type": "code",
   "execution_count": null,
   "metadata": {},
   "outputs": [],
   "source": []
  }
 ],
 "metadata": {
  "kernelspec": {
   "display_name": "Python 3",
   "language": "python",
   "name": "python3"
  },
  "language_info": {
   "codemirror_mode": {
    "name": "ipython",
    "version": 3
   },
   "file_extension": ".py",
   "mimetype": "text/x-python",
   "name": "python",
   "nbconvert_exporter": "python",
   "pygments_lexer": "ipython3",
   "version": "3.7.4"
  }
 },
 "nbformat": 4,
 "nbformat_minor": 2
}

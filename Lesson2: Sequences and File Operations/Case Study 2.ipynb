{
 "cells": [
  {
   "cell_type": "code",
   "execution_count": 1,
   "metadata": {},
   "outputs": [
    {
     "data": {
      "text/plain": [
       "'The answer for the given code is 4'"
      ]
     },
     "execution_count": 1,
     "metadata": {},
     "output_type": "execute_result"
    }
   ],
   "source": [
    "#Question 1\n",
    "'''The answer for the given code is 4'''"
   ]
  },
  {
   "cell_type": "code",
   "execution_count": 9,
   "metadata": {},
   "outputs": [
    {
     "data": {
      "text/plain": [
       "\"The answer for the given code is ['john', 'peter']\""
      ]
     },
     "execution_count": 9,
     "metadata": {},
     "output_type": "execute_result"
    }
   ],
   "source": [
    "#Question 2\n",
    "'''The answer for the given code is ['john', 'peter']'''"
   ]
  },
  {
   "cell_type": "code",
   "execution_count": 18,
   "metadata": {},
   "outputs": [
    {
     "name": "stdout",
     "output_type": "stream",
     "text": [
      "Enter your passworddkf9A$\n",
      "Valid Password\n"
     ]
    }
   ],
   "source": [
    "#Question 3\n",
    "import re\n",
    "password = input(\"Enter your password\")\n",
    "x=True\n",
    "while (x):  \n",
    "    if (len(password)>6 and len(password)<12):\n",
    "        break\n",
    "    elif not re.search(\"[a-z]\",password):\n",
    "        break\n",
    "    elif not re.search(\"[0-9]\",password):\n",
    "        break\n",
    "    elif not re.search(\"[A-Z]\",password):\n",
    "        break\n",
    "    elif not re.search(\"[$#@]\",password):\n",
    "        break\n",
    "    elif re.search(\"\\s\",password):\n",
    "        break\n",
    "    else:\n",
    "        print(\"Valid Password\")\n",
    "        x=False\n",
    "        break\n",
    "\n",
    "if x:\n",
    "    print(\"Not a Valid Password\")"
   ]
  },
  {
   "cell_type": "code",
   "execution_count": 18,
   "metadata": {},
   "outputs": [
    {
     "name": "stdout",
     "output_type": "stream",
     "text": [
      "Element: 4 Index: 0\n",
      "Element: 7 Index: 1\n",
      "Element: 3 Index: 2\n",
      "Element: 2 Index: 3\n",
      "Element: 5 Index: 4\n",
      "Element: 9 Index: 5\n"
     ]
    }
   ],
   "source": [
    "#Question 4\n",
    "a = [4,7,3,2,5,9]\n",
    "for i in a:\n",
    "    print(\"Element: \" + str(i) + \" Index: \"+ str(a.index(i)))"
   ]
  },
  {
   "cell_type": "code",
   "execution_count": 2,
   "metadata": {},
   "outputs": [
    {
     "name": "stdout",
     "output_type": "stream",
     "text": [
      "Helloworld\n"
     ]
    }
   ],
   "source": [
    "#Question 5\n",
    "def odd_values_string(str):\n",
    "    result = \"\" \n",
    "    for i in range(len(str)):\n",
    "        if i % 2 == 0:\n",
    "            result = result + str[i]\n",
    "    return result\n",
    "\n",
    "print(odd_values_string('H1e2l3l4o5w6o7r8l9d'))"
   ]
  },
  {
   "cell_type": "code",
   "execution_count": 3,
   "metadata": {},
   "outputs": [
    {
     "name": "stdout",
     "output_type": "stream",
     "text": [
      "Enter word or phrase to reverse: rise to vote sire\n",
      "eris etov ot esir"
     ]
    }
   ],
   "source": [
    "#Question 6\n",
    "word = input(\"Enter word or phrase to reverse: \")\n",
    "for i in range(len(word) - 1, -1, -1):\n",
    "    print(word[i], end=\"\")"
   ]
  },
  {
   "cell_type": "code",
   "execution_count": 5,
   "metadata": {},
   "outputs": [
    {
     "name": "stdout",
     "output_type": "stream",
     "text": [
      "Enter a string:abcdefgabc\n",
      "a,2\n",
      "b,2\n",
      "c,2\n",
      "d,1\n",
      "e,1\n",
      "f,1\n",
      "g,1\n"
     ]
    }
   ],
   "source": [
    "#Question 7\n",
    "astring=input(\"Enter a string:\")\n",
    "newstr=list(astring)\n",
    "newlist=[]\n",
    "for j in newstr:\n",
    "    if j not in newlist:\n",
    "        newlist.append(j)\n",
    "        count=0\n",
    "        for i in range(len(newstr)):\n",
    "            if j==newstr[i]:\n",
    "                count+=1\n",
    "        print(\"{},{}\".format(j,count))"
   ]
  },
  {
   "cell_type": "code",
   "execution_count": 6,
   "metadata": {},
   "outputs": [
    {
     "name": "stdout",
     "output_type": "stream",
     "text": [
      "[35]\n"
     ]
    }
   ],
   "source": [
    "#Question 8\n",
    "def intersection(list1, list2): \n",
    "    list3 = [value for value in list1 if value in list2] \n",
    "    return list3 \n",
    "\n",
    "list1 = [1,3,6,78,35,55] \n",
    "list2 = [12,24,35,24,88,120,155] \n",
    "print(intersection(list1, list2))"
   ]
  },
  {
   "cell_type": "code",
   "execution_count": 8,
   "metadata": {},
   "outputs": [
    {
     "name": "stdout",
     "output_type": "stream",
     "text": [
      "[12, 35, 88, 120, 155]\n"
     ]
    }
   ],
   "source": [
    "#Question 9\n",
    "list1 = [12,24,35,24,88,120,155]\n",
    "list1= [x for x in lists if x!=24]\n",
    "print(list1)  "
   ]
  },
  {
   "cell_type": "code",
   "execution_count": 11,
   "metadata": {},
   "outputs": [
    {
     "name": "stdout",
     "output_type": "stream",
     "text": [
      "[24, 35, 70, 155]\n"
     ]
    }
   ],
   "source": [
    "#Question 10\n",
    "list1 =[12,24,35,70,88,120,155]\n",
    "list1 = [x for (i,x) in enumerate(list1) if i not in (0,4,5)]\n",
    "print(list1)"
   ]
  },
  {
   "cell_type": "code",
   "execution_count": 12,
   "metadata": {},
   "outputs": [
    {
     "name": "stdout",
     "output_type": "stream",
     "text": [
      "[12, 24, 88]\n"
     ]
    }
   ],
   "source": [
    "#Question 11\n",
    "list1 = [12,24,35,70,88,120,155]\n",
    "list1 = [i for i in list1 if i%5!=0 and i%7!=0]\n",
    "print(list1) "
   ]
  },
  {
   "cell_type": "code",
   "execution_count": 1,
   "metadata": {},
   "outputs": [
    {
     "name": "stdout",
     "output_type": "stream",
     "text": [
      "Enter a number: 5\n",
      "new value :  3.55\n"
     ]
    }
   ],
   "source": [
    "#Question 12\n",
    "x = int(input(\"Enter a number: \"))\n",
    "num = 0\n",
    "\n",
    "for i in range(1,x+1):\n",
    "    num = num+(i/(i+1))\n",
    "\n",
    "print(\"new value : \",format(round(num,2)))"
   ]
  },
  {
   "cell_type": "code",
   "execution_count": null,
   "metadata": {},
   "outputs": [],
   "source": []
  }
 ],
 "metadata": {
  "kernelspec": {
   "display_name": "Python 3",
   "language": "python",
   "name": "python3"
  },
  "language_info": {
   "codemirror_mode": {
    "name": "ipython",
    "version": 3
   },
   "file_extension": ".py",
   "mimetype": "text/x-python",
   "name": "python",
   "nbconvert_exporter": "python",
   "pygments_lexer": "ipython3",
   "version": "3.7.4"
  }
 },
 "nbformat": 4,
 "nbformat_minor": 2
}

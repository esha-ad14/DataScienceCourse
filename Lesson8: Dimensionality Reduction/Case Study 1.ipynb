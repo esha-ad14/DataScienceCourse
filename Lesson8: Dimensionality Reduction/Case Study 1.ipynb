{
 "cells": [
  {
   "cell_type": "code",
   "execution_count": 26,
   "metadata": {},
   "outputs": [],
   "source": [
    "from sklearn.decomposition import PCA\n",
    "import pandas as pd\n",
    "import matplotlib.pyplot as plt\n",
    "import numpy as np\n",
    "from sklearn.datasets import load_digits\n",
    "from sklearn.model_selection import train_test_split\n",
    "from sklearn.linear_model import LogisticRegression\n",
    "from sklearn import metrics"
   ]
  },
  {
   "cell_type": "code",
   "execution_count": 27,
   "metadata": {},
   "outputs": [
    {
     "data": {
      "image/png": "[encoded data removed]",
      "text/plain": [
       "<Figure size 288x288 with 1 Axes>"
      ]
     },
     "metadata": {
      "needs_background": "light"
     },
     "output_type": "display_data"
    },
    {
     "name": "stdout",
     "output_type": "stream",
     "text": [
      "Image: [[ 0.  0.  5. ...  0.  0.  0.]\n",
      " [ 0.  0.  0. ... 10.  0.  0.]\n",
      " [ 0.  0.  0. ... 16.  9.  0.]\n",
      " ...\n",
      " [ 0.  0.  1. ...  6.  0.  0.]\n",
      " [ 0.  0.  2. ... 12.  0.  0.]\n",
      " [ 0.  0. 10. ... 12.  1.  0.]]\n",
      "Label: [0 1 2 ... 8 9 8]\n"
     ]
    }
   ],
   "source": [
    "#Question 1\n",
    "digi= load_digits()\n",
    "plt.matshow(digi.images[0])\n",
    "plt.show()\n",
    "\n",
    "image = digi.images.reshape(digi.images.shape[0], -1)\n",
    "label= digi.target\n",
    "print(\"Image:\",image)\n",
    "print(\"Label:\",label)"
   ]
  },
  {
   "cell_type": "code",
   "execution_count": 28,
   "metadata": {},
   "outputs": [
    {
     "name": "stdout",
     "output_type": "stream",
     "text": [
      "Accuracy Score: 0.9583333333333334\n"
     ]
    },
    {
     "name": "stderr",
     "output_type": "stream",
     "text": [
      "/opt/anaconda3/lib/python3.7/site-packages/sklearn/linear_model/logistic.py:432: FutureWarning: Default solver will be changed to 'lbfgs' in 0.22. Specify a solver to silence this warning.\n",
      "  FutureWarning)\n",
      "/opt/anaconda3/lib/python3.7/site-packages/sklearn/linear_model/logistic.py:469: FutureWarning: Default multi_class will be changed to 'auto' in 0.22. Specify the multi_class option to silence this warning.\n",
      "  \"this warning.\", FutureWarning)\n"
     ]
    }
   ],
   "source": [
    "#Question 2\n",
    "train_x, test_x, train_y, test_y = train_test_split(image, label, random_state=10, test_size=0.20)\n",
    "\n",
    "log = LogisticRegression()\n",
    "log.fit(train_x, train_y)\n",
    "\n",
    "prediction = log.predict(test_x)\n",
    "\n",
    "print(\"Accuracy Score:\",metrics.accuracy_score(test_y, prediction))\n"
   ]
  },
  {
   "cell_type": "code",
   "execution_count": 29,
   "metadata": {},
   "outputs": [
    {
     "name": "stdout",
     "output_type": "stream",
     "text": [
      "Variance Ratio: [0.14659533 0.13563025 0.11901049 0.08581575 0.05884243 0.04888293\n",
      " 0.04350605 0.03691206 0.03334081 0.03064256]\n"
     ]
    }
   ],
   "source": [
    "#Question 3\n",
    "pca = PCA(n_components=10)\n",
    "pca.fit(image)\n",
    "\n",
    "pca.fit(train_x, train_y)\n",
    "train_x = pca.transform(train_x)\n",
    "test_x = pca.transform(test_x)\n",
    "\n",
    "print(\"Variance Ratio:\", pca.explained_variance_ratio_)\n"
   ]
  },
  {
   "cell_type": "code",
   "execution_count": 31,
   "metadata": {},
   "outputs": [
    {
     "name": "stdout",
     "output_type": "stream",
     "text": [
      "Variance Ratio: 0.9333333333333333\n"
     ]
    },
    {
     "name": "stderr",
     "output_type": "stream",
     "text": [
      "/opt/anaconda3/lib/python3.7/site-packages/sklearn/linear_model/logistic.py:432: FutureWarning: Default solver will be changed to 'lbfgs' in 0.22. Specify a solver to silence this warning.\n",
      "  FutureWarning)\n",
      "/opt/anaconda3/lib/python3.7/site-packages/sklearn/linear_model/logistic.py:469: FutureWarning: Default multi_class will be changed to 'auto' in 0.22. Specify the multi_class option to silence this warning.\n",
      "  \"this warning.\", FutureWarning)\n"
     ]
    }
   ],
   "source": [
    "#Question 4\n",
    "log1 = LogisticRegression()\n",
    "log1.fit(train_x, train_y)\n",
    "\n",
    "predictedVals = log1.predict(test_x)\n",
    "\n",
    "print(\"Variance Ratio:\", metrics.accuracy_score(predictedVals, test_y))\n"
   ]
  },
  {
   "cell_type": "code",
   "execution_count": 44,
   "metadata": {},
   "outputs": [
    {
     "name": "stdout",
     "output_type": "stream",
     "text": [
      "Confusion Metrics\n",
      "[[36  0  0  0  0  0  0  0  0  0]\n",
      " [ 0 31  0  0  0  1  1  0  2  1]\n",
      " [ 0  1 34  1  0  0  0  0  1  0]\n",
      " [ 0  0  0 37  0  0  0  0  1  0]\n",
      " [ 1  0  0  0 32  0  0  1  0  0]\n",
      " [ 0  1  0  0  0 29  0  0  2  2]\n",
      " [ 0  0  0  0  0  0 36  0  1  0]\n",
      " [ 0  0  0  1  0  0  0 39  0  0]\n",
      " [ 0  1  0  1  0  0  0  0 26  0]\n",
      " [ 0  0  0  0  2  2  0  0  0 36]]\n",
      "Classfication Report\n",
      "              precision    recall  f1-score   support\n",
      "\n",
      "           0       0.97      1.00      0.99        36\n",
      "           1       0.91      0.86      0.89        36\n",
      "           2       1.00      0.92      0.96        37\n",
      "           3       0.93      0.97      0.95        38\n",
      "           4       0.94      0.94      0.94        34\n",
      "           5       0.91      0.85      0.88        34\n",
      "           6       0.97      0.97      0.97        37\n",
      "           7       0.97      0.97      0.97        40\n",
      "           8       0.79      0.93      0.85        28\n",
      "           9       0.92      0.90      0.91        40\n",
      "\n",
      "    accuracy                           0.93       360\n",
      "   macro avg       0.93      0.93      0.93       360\n",
      "weighted avg       0.94      0.93      0.93       360\n",
      "\n"
     ]
    }
   ],
   "source": [
    "#Question 5\n",
    "conf = metrics.confusion_matrix(predictedVals, test_y)\n",
    "Creport = metrics.classification_report(\n",
    "    predictedVals, test_y)\n",
    "\n",
    "print(\"Confusion Metrics\")\n",
    "print(conf)\n",
    "print(\"Classfication Report\")\n",
    "print(Creport)"
   ]
  },
  {
   "cell_type": "code",
   "execution_count": null,
   "metadata": {},
   "outputs": [],
   "source": []
  }
 ],
 "metadata": {
  "kernelspec": {
   "display_name": "Python 3",
   "language": "python",
   "name": "python3"
  },
  "language_info": {
   "codemirror_mode": {
    "name": "ipython",
    "version": 3
   },
   "file_extension": ".py",
   "mimetype": "text/x-python",
   "name": "python",
   "nbconvert_exporter": "python",
   "pygments_lexer": "ipython3",
   "version": "3.7.4"
  }
 },
 "nbformat": 4,
 "nbformat_minor": 2
}
